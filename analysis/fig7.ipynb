{
 "cells": [
  {
   "cell_type": "code",
   "execution_count": 1,
   "id": "bd892514-5d70-499c-99a7-5957bfb340d2",
   "metadata": {},
   "outputs": [],
   "source": [
    "import pandas as pd\n",
    "import numpy as np\n",
    "import seaborn as sns\n",
    "from functools import reduce"
   ]
  },
  {
   "cell_type": "code",
   "execution_count": 2,
   "id": "dd32d3d1-ef79-42bc-9b30-c2e5503c366e",
   "metadata": {},
   "outputs": [],
   "source": [
    "lambda_list=['1', '5e-1', '1e-1', '5e-2', '1e-2', '5e-3', '1e-3']"
   ]
  },
  {
   "cell_type": "code",
   "execution_count": 3,
   "id": "203123b3-84a5-4fe4-af10-f8ad5501ceae",
   "metadata": {},
   "outputs": [],
   "source": [
    "def get_test_loss(solver):\n",
    "    data_frames = []\n",
    "    for l2 in lambda_list:\n",
    "        log = 'matlab-log/'+\"sol_\"+ solver +\"_gpu_0_l2_\"+ l2 +\"_d_40_t_100_eta_0.3_cgt_20.csv\"\n",
    "        df = pd.read_csv(log)\n",
    "        df = df[[\"iter\", \"test_loss\"]]\n",
    "        df = df.rename(columns = {'test_loss': l2})\n",
    "        data_frames.append(df)\n",
    "    return reduce(lambda left,right: pd.merge(left,right,on=['iter'], how='outer'), data_frames)\n",
    "def get_obj(solver):\n",
    "    data_frames = []\n",
    "    for l2 in lambda_list:\n",
    "        log = 'matlab-log/'+\"sol_\"+ solver +\"_gpu_0_l2_\"+ l2 +\"_d_40_t_100_eta_0.3_cgt_20.csv\"\n",
    "        df = pd.read_csv(log)\n",
    "        df = df[[\"iter\", \"obj\"]]\n",
    "        df = df.rename(columns = {\"obj\": l2})\n",
    "        data_frames.append(df)\n",
    "    return reduce(lambda left,right: pd.merge(left,right,on=['iter'], how='outer'), data_frames)"
   ]
  },
  {
   "cell_type": "code",
   "execution_count": 4,
   "id": "50c826c4-b754-4ea9-997f-84505c488a57",
   "metadata": {},
   "outputs": [
    {
     "data": {
      "text/html": [
       "<div>\n",
       "<style scoped>\n",
       "    .dataframe tbody tr th:only-of-type {\n",
       "        vertical-align: middle;\n",
       "    }\n",
       "\n",
       "    .dataframe tbody tr th {\n",
       "        vertical-align: top;\n",
       "    }\n",
       "\n",
       "    .dataframe thead th {\n",
       "        text-align: right;\n",
       "    }\n",
       "</style>\n",
       "<table border=\"1\" class=\"dataframe\">\n",
       "  <thead>\n",
       "    <tr style=\"text-align: right;\">\n",
       "      <th></th>\n",
       "      <th>lambda</th>\n",
       "      <th>Gauss</th>\n",
       "      <th>ALS_CG</th>\n",
       "    </tr>\n",
       "  </thead>\n",
       "  <tbody>\n",
       "    <tr>\n",
       "      <th>0</th>\n",
       "      <td>1</td>\n",
       "      <td>1.353823</td>\n",
       "      <td>1.353784</td>\n",
       "    </tr>\n",
       "    <tr>\n",
       "      <th>1</th>\n",
       "      <td>5e-1</td>\n",
       "      <td>1.041315</td>\n",
       "      <td>1.039801</td>\n",
       "    </tr>\n",
       "    <tr>\n",
       "      <th>2</th>\n",
       "      <td>1e-1</td>\n",
       "      <td>0.857668</td>\n",
       "      <td>0.857550</td>\n",
       "    </tr>\n",
       "    <tr>\n",
       "      <th>3</th>\n",
       "      <td>5e-2</td>\n",
       "      <td>0.850166</td>\n",
       "      <td>0.846197</td>\n",
       "    </tr>\n",
       "    <tr>\n",
       "      <th>4</th>\n",
       "      <td>1e-2</td>\n",
       "      <td>0.899916</td>\n",
       "      <td>0.902221</td>\n",
       "    </tr>\n",
       "  </tbody>\n",
       "</table>\n",
       "</div>"
      ],
      "text/plain": [
       "  lambda     Gauss    ALS_CG\n",
       "0      1  1.353823  1.353784\n",
       "1   5e-1  1.041315  1.039801\n",
       "2   1e-1  0.857668  0.857550\n",
       "3   5e-2  0.850166  0.846197\n",
       "4   1e-2  0.899916  0.902221"
      ]
     },
     "execution_count": 4,
     "metadata": {},
     "output_type": "execute_result"
    }
   ],
   "source": [
    "# Take min of each lambda\n",
    "data0 = get_test_loss('0').drop(columns=['iter']).min().to_frame(name=\"Gauss\")\n",
    "data1 = get_test_loss('1').drop(columns=['iter']).min().to_frame(name=\"ALS_CG\")\n",
    "# Merge on row index, which is lambda\n",
    "data = pd.merge(data0, data1, left_index=True, right_index=True)\n",
    "data = data.reset_index()\n",
    "data = data.rename(columns = {\"index\": \"lambda\"})\n",
    "data.head()"
   ]
  },
  {
   "cell_type": "code",
   "execution_count": 5,
   "id": "c4a2c30d-cd66-4ce5-8d80-3c4d09ff1824",
   "metadata": {},
   "outputs": [
    {
     "data": {
      "image/png": "[encoded data removed]",
      "text/plain": [
       "<Figure size 434.25x360 with 1 Axes>"
      ]
     },
     "metadata": {
      "needs_background": "light"
     },
     "output_type": "display_data"
    }
   ],
   "source": [
    "data = data.melt(id_vars=\"lambda\", var_name=\"Solver\", value_name=\"RMSE\")\n",
    "g = sns.relplot(x=\"lambda\", y=\"RMSE\", hue=\"Solver\", kind=\"line\", marker='o', data=data)\n",
    "g.savefig(\"fig/fig7-RMSE.png\")"
   ]
  },
  {
   "cell_type": "code",
   "execution_count": 6,
   "id": "249d5fc0-b8b2-47d4-afb4-c3232538cbb5",
   "metadata": {},
   "outputs": [
    {
     "data": {
      "text/html": [
       "<div>\n",
       "<style scoped>\n",
       "    .dataframe tbody tr th:only-of-type {\n",
       "        vertical-align: middle;\n",
       "    }\n",
       "\n",
       "    .dataframe tbody tr th {\n",
       "        vertical-align: top;\n",
       "    }\n",
       "\n",
       "    .dataframe thead th {\n",
       "        text-align: right;\n",
       "    }\n",
       "</style>\n",
       "<table border=\"1\" class=\"dataframe\">\n",
       "  <thead>\n",
       "    <tr style=\"text-align: right;\">\n",
       "      <th></th>\n",
       "      <th>lambda</th>\n",
       "      <th>Gauss</th>\n",
       "      <th>ALS_CG</th>\n",
       "      <th>rel_diff</th>\n",
       "    </tr>\n",
       "  </thead>\n",
       "  <tbody>\n",
       "    <tr>\n",
       "      <th>0</th>\n",
       "      <td>1</td>\n",
       "      <td>3190343.703</td>\n",
       "      <td>3190343.703</td>\n",
       "      <td>0.000000</td>\n",
       "    </tr>\n",
       "    <tr>\n",
       "      <th>1</th>\n",
       "      <td>5e-1</td>\n",
       "      <td>1891523.175</td>\n",
       "      <td>1891523.175</td>\n",
       "      <td>0.000000</td>\n",
       "    </tr>\n",
       "    <tr>\n",
       "      <th>2</th>\n",
       "      <td>1e-1</td>\n",
       "      <td>660949.800</td>\n",
       "      <td>660881.174</td>\n",
       "      <td>0.000104</td>\n",
       "    </tr>\n",
       "    <tr>\n",
       "      <th>3</th>\n",
       "      <td>5e-2</td>\n",
       "      <td>442880.995</td>\n",
       "      <td>442622.107</td>\n",
       "      <td>0.000585</td>\n",
       "    </tr>\n",
       "    <tr>\n",
       "      <th>4</th>\n",
       "      <td>1e-2</td>\n",
       "      <td>208626.324</td>\n",
       "      <td>216359.138</td>\n",
       "      <td>-0.035741</td>\n",
       "    </tr>\n",
       "  </tbody>\n",
       "</table>\n",
       "</div>"
      ],
      "text/plain": [
       "  lambda        Gauss       ALS_CG  rel_diff\n",
       "0      1  3190343.703  3190343.703  0.000000\n",
       "1   5e-1  1891523.175  1891523.175  0.000000\n",
       "2   1e-1   660949.800   660881.174  0.000104\n",
       "3   5e-2   442880.995   442622.107  0.000585\n",
       "4   1e-2   208626.324   216359.138 -0.035741"
      ]
     },
     "execution_count": 6,
     "metadata": {},
     "output_type": "execute_result"
    }
   ],
   "source": [
    "# Take min of each lambda\n",
    "data0 = get_obj('0').drop(columns=['iter']).min().to_frame(name=\"Gauss\")\n",
    "data1 = get_obj('1').drop(columns=['iter']).min().to_frame(name=\"ALS_CG\")\n",
    "# Merge on row index, which is lambda\n",
    "data = pd.merge(data0, data1, left_index=True, right_index=True)\n",
    "data = data.reset_index()\n",
    "data = data.rename(columns = {\"index\": \"lambda\"})\n",
    "# Calculate relative difference\n",
    "data['rel_diff'] = (data['Gauss'] - data['ALS_CG']) / data['ALS_CG']\n",
    "data.head()"
   ]
  },
  {
   "cell_type": "code",
   "execution_count": 7,
   "id": "2935f9c1-3e06-4c6e-af8c-7c76aea0feb1",
   "metadata": {},
   "outputs": [
    {
     "data": {
      "image/png": "[encoded data removed]",
      "text/plain": [
       "<Figure size 360x360 with 1 Axes>"
      ]
     },
     "metadata": {
      "needs_background": "light"
     },
     "output_type": "display_data"
    }
   ],
   "source": [
    "g = sns.relplot(x=\"lambda\", y=\"rel_diff\", kind=\"line\", marker='o', data=data)\n",
    "g.ax.set(xlabel=r'$\\lambda$', ylabel=r\"$\\frac{obj_{Gauss} - obj_{ALSCG}}{obj_{ALSCG}}$\")\n",
    "g.savefig(\"fig/fig7-obj.png\")"
   ]
  },
  {
   "cell_type": "code",
   "execution_count": null,
   "id": "85b0e31d-6640-4ff9-8f76-ce599271474d",
   "metadata": {},
   "outputs": [],
   "source": []
  },
  {
   "cell_type": "code",
   "execution_count": null,
   "id": "cdd6956d-0f01-458d-b25f-bbcd9c9d3192",
   "metadata": {},
   "outputs": [],
   "source": []
  }
 ],
 "metadata": {
  "kernelspec": {
   "display_name": "Python 3",
   "language": "python",
   "name": "python3"
  },
  "language_info": {
   "codemirror_mode": {
    "name": "ipython",
    "version": 3
   },
   "file_extension": ".py",
   "mimetype": "text/x-python",
   "name": "python",
   "nbconvert_exporter": "python",
   "pygments_lexer": "ipython3",
   "version": "3.8.8"
  }
 },
 "nbformat": 4,
 "nbformat_minor": 5
}
