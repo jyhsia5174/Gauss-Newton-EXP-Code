{
 "cells": [
  {
   "cell_type": "code",
   "execution_count": 219,
   "id": "bd892514-5d70-499c-99a7-5957bfb340d2",
   "metadata": {},
   "outputs": [],
   "source": [
    "import pandas as pd\n",
    "import numpy as np\n",
    "import seaborn as sns\n",
    "from functools import reduce"
   ]
  },
  {
   "cell_type": "code",
   "execution_count": 220,
   "id": "dd32d3d1-ef79-42bc-9b30-c2e5503c366e",
   "metadata": {},
   "outputs": [],
   "source": [
    "lambda_list=['1', '5e-1', '1e-1', '5e-2', '1e-2', '5e-3', '1e-3']"
   ]
  },
  {
   "cell_type": "code",
   "execution_count": 228,
   "id": "203123b3-84a5-4fe4-af10-f8ad5501ceae",
   "metadata": {},
   "outputs": [],
   "source": [
    "def get_test_loss(solver):\n",
    "    data_frames = []\n",
    "    for l2 in lambda_list:\n",
    "        log = \"sol_\"+ solver +\"_gpu_0_l2_\"+ l2 +\"_d_40_t_100_eta_0.3_cgt_20.csv\"\n",
    "        df = pd.read_csv(log)\n",
    "        df = df[[\"iter\", \"test_loss\"]]\n",
    "        df = df.rename(columns = {'test_loss': l2})\n",
    "        data_frames.append(df)\n",
    "    return reduce(lambda left,right: pd.merge(left,right,on=['iter'], how='outer'), data_frames)"
   ]
  },
  {
   "cell_type": "code",
   "execution_count": 222,
   "id": "1b605c57-9817-4d5f-b292-2492c40c259d",
   "metadata": {},
   "outputs": [
    {
     "data": {
      "text/html": [
       "<div>\n",
       "<style scoped>\n",
       "    .dataframe tbody tr th:only-of-type {\n",
       "        vertical-align: middle;\n",
       "    }\n",
       "\n",
       "    .dataframe tbody tr th {\n",
       "        vertical-align: top;\n",
       "    }\n",
       "\n",
       "    .dataframe thead th {\n",
       "        text-align: right;\n",
       "    }\n",
       "</style>\n",
       "<table border=\"1\" class=\"dataframe\">\n",
       "  <thead>\n",
       "    <tr style=\"text-align: right;\">\n",
       "      <th></th>\n",
       "      <th>Gauss</th>\n",
       "    </tr>\n",
       "  </thead>\n",
       "  <tbody>\n",
       "    <tr>\n",
       "      <th>1</th>\n",
       "      <td>1.353823</td>\n",
       "    </tr>\n",
       "    <tr>\n",
       "      <th>5e-1</th>\n",
       "      <td>1.041315</td>\n",
       "    </tr>\n",
       "    <tr>\n",
       "      <th>1e-1</th>\n",
       "      <td>0.857668</td>\n",
       "    </tr>\n",
       "    <tr>\n",
       "      <th>5e-2</th>\n",
       "      <td>0.850166</td>\n",
       "    </tr>\n",
       "    <tr>\n",
       "      <th>1e-2</th>\n",
       "      <td>0.899916</td>\n",
       "    </tr>\n",
       "  </tbody>\n",
       "</table>\n",
       "</div>"
      ],
      "text/plain": [
       "         Gauss\n",
       "1     1.353823\n",
       "5e-1  1.041315\n",
       "1e-1  0.857668\n",
       "5e-2  0.850166\n",
       "1e-2  0.899916"
      ]
     },
     "execution_count": 222,
     "metadata": {},
     "output_type": "execute_result"
    }
   ],
   "source": [
    "data0 = get_test_loss('0').drop(columns=['iter']).min().to_frame(name=\"Gauss\")\n",
    "data0.head()"
   ]
  },
  {
   "cell_type": "code",
   "execution_count": 223,
   "id": "fcf34f31-fe57-4fa2-8b6b-467b3632fac8",
   "metadata": {},
   "outputs": [
    {
     "data": {
      "text/html": [
       "<div>\n",
       "<style scoped>\n",
       "    .dataframe tbody tr th:only-of-type {\n",
       "        vertical-align: middle;\n",
       "    }\n",
       "\n",
       "    .dataframe tbody tr th {\n",
       "        vertical-align: top;\n",
       "    }\n",
       "\n",
       "    .dataframe thead th {\n",
       "        text-align: right;\n",
       "    }\n",
       "</style>\n",
       "<table border=\"1\" class=\"dataframe\">\n",
       "  <thead>\n",
       "    <tr style=\"text-align: right;\">\n",
       "      <th></th>\n",
       "      <th>ALSCG</th>\n",
       "    </tr>\n",
       "  </thead>\n",
       "  <tbody>\n",
       "    <tr>\n",
       "      <th>1</th>\n",
       "      <td>1.353784</td>\n",
       "    </tr>\n",
       "    <tr>\n",
       "      <th>5e-1</th>\n",
       "      <td>1.039801</td>\n",
       "    </tr>\n",
       "    <tr>\n",
       "      <th>1e-1</th>\n",
       "      <td>0.857550</td>\n",
       "    </tr>\n",
       "    <tr>\n",
       "      <th>5e-2</th>\n",
       "      <td>0.846197</td>\n",
       "    </tr>\n",
       "    <tr>\n",
       "      <th>1e-2</th>\n",
       "      <td>0.902221</td>\n",
       "    </tr>\n",
       "  </tbody>\n",
       "</table>\n",
       "</div>"
      ],
      "text/plain": [
       "         ALSCG\n",
       "1     1.353784\n",
       "5e-1  1.039801\n",
       "1e-1  0.857550\n",
       "5e-2  0.846197\n",
       "1e-2  0.902221"
      ]
     },
     "execution_count": 223,
     "metadata": {},
     "output_type": "execute_result"
    }
   ],
   "source": [
    "data1 = get_test_loss('1').drop(columns=['iter']).min().to_frame(name=\"ALSCG\")\n",
    "data1.head()"
   ]
  },
  {
   "cell_type": "code",
   "execution_count": 224,
   "id": "fbc5083e-e43b-492e-8464-8e93519f9ac3",
   "metadata": {},
   "outputs": [
    {
     "data": {
      "text/html": [
       "<div>\n",
       "<style scoped>\n",
       "    .dataframe tbody tr th:only-of-type {\n",
       "        vertical-align: middle;\n",
       "    }\n",
       "\n",
       "    .dataframe tbody tr th {\n",
       "        vertical-align: top;\n",
       "    }\n",
       "\n",
       "    .dataframe thead th {\n",
       "        text-align: right;\n",
       "    }\n",
       "</style>\n",
       "<table border=\"1\" class=\"dataframe\">\n",
       "  <thead>\n",
       "    <tr style=\"text-align: right;\">\n",
       "      <th></th>\n",
       "      <th>lambda</th>\n",
       "      <th>Gauss</th>\n",
       "      <th>ALSCG</th>\n",
       "    </tr>\n",
       "  </thead>\n",
       "  <tbody>\n",
       "    <tr>\n",
       "      <th>0</th>\n",
       "      <td>1</td>\n",
       "      <td>1.353823</td>\n",
       "      <td>1.353784</td>\n",
       "    </tr>\n",
       "    <tr>\n",
       "      <th>1</th>\n",
       "      <td>5e-1</td>\n",
       "      <td>1.041315</td>\n",
       "      <td>1.039801</td>\n",
       "    </tr>\n",
       "    <tr>\n",
       "      <th>2</th>\n",
       "      <td>1e-1</td>\n",
       "      <td>0.857668</td>\n",
       "      <td>0.857550</td>\n",
       "    </tr>\n",
       "    <tr>\n",
       "      <th>3</th>\n",
       "      <td>5e-2</td>\n",
       "      <td>0.850166</td>\n",
       "      <td>0.846197</td>\n",
       "    </tr>\n",
       "    <tr>\n",
       "      <th>4</th>\n",
       "      <td>1e-2</td>\n",
       "      <td>0.899916</td>\n",
       "      <td>0.902221</td>\n",
       "    </tr>\n",
       "  </tbody>\n",
       "</table>\n",
       "</div>"
      ],
      "text/plain": [
       "  lambda     Gauss     ALSCG\n",
       "0      1  1.353823  1.353784\n",
       "1   5e-1  1.041315  1.039801\n",
       "2   1e-1  0.857668  0.857550\n",
       "3   5e-2  0.850166  0.846197\n",
       "4   1e-2  0.899916  0.902221"
      ]
     },
     "execution_count": 224,
     "metadata": {},
     "output_type": "execute_result"
    }
   ],
   "source": [
    "data = pd.merge(data0, data1, left_index=True, right_index=True)\n",
    "data = data.reset_index()\n",
    "data = data.rename(columns = {\"index\": \"lambda\"})\n",
    "data.head()"
   ]
  },
  {
   "cell_type": "code",
   "execution_count": 225,
   "id": "fae16a10-19d9-479e-a339-6d2f69757fbf",
   "metadata": {},
   "outputs": [
    {
     "data": {
      "text/html": [
       "<div>\n",
       "<style scoped>\n",
       "    .dataframe tbody tr th:only-of-type {\n",
       "        vertical-align: middle;\n",
       "    }\n",
       "\n",
       "    .dataframe tbody tr th {\n",
       "        vertical-align: top;\n",
       "    }\n",
       "\n",
       "    .dataframe thead th {\n",
       "        text-align: right;\n",
       "    }\n",
       "</style>\n",
       "<table border=\"1\" class=\"dataframe\">\n",
       "  <thead>\n",
       "    <tr style=\"text-align: right;\">\n",
       "      <th></th>\n",
       "      <th>lambda</th>\n",
       "      <th>Solver</th>\n",
       "      <th>RMSE</th>\n",
       "    </tr>\n",
       "  </thead>\n",
       "  <tbody>\n",
       "    <tr>\n",
       "      <th>0</th>\n",
       "      <td>1</td>\n",
       "      <td>Gauss</td>\n",
       "      <td>1.353823</td>\n",
       "    </tr>\n",
       "    <tr>\n",
       "      <th>1</th>\n",
       "      <td>5e-1</td>\n",
       "      <td>Gauss</td>\n",
       "      <td>1.041315</td>\n",
       "    </tr>\n",
       "    <tr>\n",
       "      <th>2</th>\n",
       "      <td>1e-1</td>\n",
       "      <td>Gauss</td>\n",
       "      <td>0.857668</td>\n",
       "    </tr>\n",
       "    <tr>\n",
       "      <th>3</th>\n",
       "      <td>5e-2</td>\n",
       "      <td>Gauss</td>\n",
       "      <td>0.850166</td>\n",
       "    </tr>\n",
       "    <tr>\n",
       "      <th>4</th>\n",
       "      <td>1e-2</td>\n",
       "      <td>Gauss</td>\n",
       "      <td>0.899916</td>\n",
       "    </tr>\n",
       "  </tbody>\n",
       "</table>\n",
       "</div>"
      ],
      "text/plain": [
       "  lambda Solver      RMSE\n",
       "0      1  Gauss  1.353823\n",
       "1   5e-1  Gauss  1.041315\n",
       "2   1e-1  Gauss  0.857668\n",
       "3   5e-2  Gauss  0.850166\n",
       "4   1e-2  Gauss  0.899916"
      ]
     },
     "execution_count": 225,
     "metadata": {},
     "output_type": "execute_result"
    }
   ],
   "source": [
    "data = data.melt(id_vars=\"lambda\", var_name=\"Solver\", value_name=\"RMSE\")\n",
    "data.head()"
   ]
  },
  {
   "cell_type": "code",
   "execution_count": 226,
   "id": "33493157-3a27-4422-a2db-907f7027ec2d",
   "metadata": {},
   "outputs": [
    {
     "data": {
      "image/png": "[encoded data removed]",
      "text/plain": [
       "<Figure size 436.35x360 with 1 Axes>"
      ]
     },
     "metadata": {},
     "output_type": "display_data"
    }
   ],
   "source": [
    "g = sns.relplot(x=\"lambda\", y=\"RMSE\", hue=\"Solver\", kind=\"line\", marker='o', data=data)"
   ]
  },
  {
   "cell_type": "code",
   "execution_count": 227,
   "id": "249d5fc0-b8b2-47d4-afb4-c3232538cbb5",
   "metadata": {},
   "outputs": [],
   "source": [
    "g.savefig(\"fig7.png\")"
   ]
  }
 ],
 "metadata": {
  "kernelspec": {
   "display_name": "Python 3",
   "language": "python",
   "name": "python3"
  },
  "language_info": {
   "codemirror_mode": {
    "name": "ipython",
    "version": 3
   },
   "file_extension": ".py",
   "mimetype": "text/x-python",
   "name": "python",
   "nbconvert_exporter": "python",
   "pygments_lexer": "ipython3",
   "version": "3.8.8"
  }
 },
 "nbformat": 4,
 "nbformat_minor": 5
}
